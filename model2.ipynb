{
 "cells": [
  {
   "cell_type": "code",
   "execution_count": null,
   "id": "bacb5b01",
   "metadata": {},
   "outputs": [],
   "source": [
    "import pandas as pd\n",
    "import os\n",
    "import numpy as np\n",
    "import seaborn as sns\n",
    "import matplotlib.pyplot as plt\n",
    "from sklearn.preprocessing import LabelEncoder\n",
    "from sklearn.model_selection import train_test_split"
   ]
  },
  {
   "cell_type": "markdown",
   "id": "95b58e50",
   "metadata": {},
   "source": [
    "#### &#10140; *EDA*</br>"
   ]
  },
  {
   "cell_type": "code",
   "execution_count": null,
   "id": "f3d9ca90",
   "metadata": {},
   "outputs": [],
   "source": [
    "trainData = pd.read_csv('./data/train.csv')\n",
    "\n",
    "print('Data shape: ', trainData.shape)"
   ]
  },
  {
   "cell_type": "code",
   "execution_count": null,
   "id": "53885118",
   "metadata": {},
   "outputs": [],
   "source": [
    "trainData.drop(['Id'], axis=1, inplace=True)\n",
    "\n",
    "print(trainData.info())"
   ]
  },
  {
   "cell_type": "markdown",
   "id": "60d43e22",
   "metadata": {},
   "source": [
    "### -- `Log-Transformation` -- "
   ]
  },
  {
   "cell_type": "code",
   "execution_count": null,
   "id": "e3598d8e",
   "metadata": {},
   "outputs": [],
   "source": [
    "plt.figure(figsize=(10, 6))\n",
    "sns.histplot(trainData['SalePrice'], bins=30, kde=True)\n",
    "plt.title('Distribution of SalePrice')\n",
    "plt.xlabel('SalePrice')\n",
    "\n",
    "\n",
    "trainData['SalePrice'] = np.log1p(trainData['SalePrice'])\n",
    "plt.figure(figsize=(10, 6))\n",
    "sns.histplot(trainData['SalePrice'], bins=30, kde=True)\n",
    "plt.title('Log-Transformed Distribution of SalePrice')\n",
    "plt.xlabel('Log(SalePrice)')"
   ]
  },
  {
   "cell_type": "markdown",
   "id": "cf91b809",
   "metadata": {},
   "source": [
    "### -- `Missing Data` -- "
   ]
  },
  {
   "cell_type": "code",
   "execution_count": null,
   "id": "ab8b5398",
   "metadata": {},
   "outputs": [],
   "source": [
    "missing = trainData.isnull().sum() \n",
    "missing = missing[missing > 0].sort_values(ascending=False)\n",
    "\n",
    "print(missing.head(20))"
   ]
  },
  {
   "cell_type": "code",
   "execution_count": null,
   "id": "468984d7",
   "metadata": {},
   "outputs": [],
   "source": [
    "for col in ['PoolQC', 'MiscFeature', 'Alley', 'Fence', 'FireplaceQu',\n",
    "            'GarageType', 'GarageFinish', 'GarageQual', 'GarageCond',\n",
    "            'BsmtExposure', 'BsmtFinType1', 'BsmtFinType2', 'BsmtQual', 'BsmtCond',\n",
    "            'MasVnrType']:\n",
    "    trainData[col] = trainData[col].fillna(\"None\")\n",
    "\n",
    "for col in ['GarageYrBlt', 'GarageArea', 'GarageCars', 'BsmtFinSF1',\n",
    "            'BsmtFinSF2', 'BsmtUnfSF', 'TotalBsmtSF', 'BsmtFullBath', \n",
    "            'BsmtHalfBath', 'MasVnrArea']:\n",
    "    trainData[col] = trainData[col].fillna(0)\n",
    "\n",
    "trainData[\"LotFrontage\"] = trainData.groupby(\"Neighborhood\")[\"LotFrontage\"].transform(\n",
    "    lambda x: x.fillna(x.median()))\n",
    "\n",
    "trainData['Electrical'] = trainData['Electrical'].fillna(trainData['Electrical'].mode()[0])\n",
    "\n",
    "print(trainData.isnull().sum().sort_values(ascending=False).head(10))"
   ]
  },
  {
   "cell_type": "markdown",
   "id": "72e053fc",
   "metadata": {},
   "source": [
    "### -- `Zero Data` -- "
   ]
  },
  {
   "cell_type": "code",
   "execution_count": null,
   "id": "92c69aa4",
   "metadata": {},
   "outputs": [],
   "source": [
    "zero_value = trainData.isin([0]).sum()\n",
    "zero_value = zero_value[zero_value > 0].sort_values(ascending=False)\n",
    "print(zero_value.head(30))"
   ]
  },
  {
   "cell_type": "code",
   "execution_count": null,
   "id": "4d711787",
   "metadata": {},
   "outputs": [],
   "source": [
    "trainData['KitchenAbvGr'] = trainData['KitchenAbvGr'].fillna(trainData['KitchenAbvGr'].mode()[0])"
   ]
  },
  {
   "cell_type": "markdown",
   "id": "d357b1d8",
   "metadata": {},
   "source": [
    "### -- `Categorical objects` -- "
   ]
  },
  {
   "cell_type": "code",
   "execution_count": null,
   "id": "658a8c6d",
   "metadata": {},
   "outputs": [],
   "source": [
    "cat_cols = trainData.select_dtypes(include=[\"object\"]).columns\n",
    "print(cat_cols)\n",
    "\n",
    "\n",
    "cat_cols = trainData.select_dtypes(include=[\"object\"]).columns\n",
    "\n",
    "for col in cat_cols:\n",
    "    print(f\"{col}: {trainData[col].nunique()} унікальних значень\")\n",
    "\n",
    "trainData = pd.get_dummies(trainData, columns=cat_cols)"
   ]
  },
  {
   "cell_type": "markdown",
   "id": "19bb79f1",
   "metadata": {},
   "source": [
    "### -- `Outliers` -- "
   ]
  },
  {
   "cell_type": "code",
   "execution_count": null,
   "id": "2593f1d2",
   "metadata": {},
   "outputs": [],
   "source": [
    "sns.scatterplot(x=trainData['LotArea'], y=trainData['SalePrice'])\n",
    "plt.title(\"LotArea vs SalePrice\")\n",
    "\n",
    "trainData = trainData[trainData['GrLivArea'] < 4000]\n",
    "trainData = trainData[trainData['LotArea'] < 7500]"
   ]
  },
  {
   "cell_type": "markdown",
   "id": "80b2734a",
   "metadata": {},
   "source": [
    "### -- `Feature Engineering` -- "
   ]
  },
  {
   "cell_type": "code",
   "execution_count": null,
   "id": "83153e2c",
   "metadata": {},
   "outputs": [],
   "source": [
    "trainData['TotalSF'] = trainData['1stFlrSF'] + trainData['2ndFlrSF'] + trainData['TotalBsmtSF']\n",
    "trainData['Age'] = trainData['YrSold'] - trainData['YearBuilt']"
   ]
  },
  {
   "cell_type": "markdown",
   "id": "693d32f8",
   "metadata": {},
   "source": [
    "#### &#10140; *Preparing Data*</br>"
   ]
  },
  {
   "cell_type": "code",
   "execution_count": null,
   "id": "8a19e5b4",
   "metadata": {},
   "outputs": [],
   "source": [
    "trainData.to_csv(\"processed_train_data.csv\", index=False)"
   ]
  },
  {
   "cell_type": "code",
   "execution_count": null,
   "id": "b534d2ac",
   "metadata": {},
   "outputs": [],
   "source": [
    "y = trainData['SalePrice']\n",
    "X = trainData.drop('SalePrice', axis=1)\n",
    "\n",
    "X_train, X_valid, y_train, y_valid = train_test_split(X, y, test_size=0.2, random_state=55)"
   ]
  },
  {
   "cell_type": "code",
   "execution_count": null,
   "id": "46eb78b4",
   "metadata": {},
   "outputs": [],
   "source": [
    "from xgboost import XGBRegressor\n",
    "from sklearn.metrics import mean_squared_log_error\n",
    "import numpy as np\n",
    "\n",
    "def rmsle(y_true_log, y_pred_log):\n",
    "    y_true = np.expm1(y_true_log)  \n",
    "    y_pred = np.expm1(y_pred_log)\n",
    "    return np.sqrt(mean_squared_log_error(y_true, y_pred))\n",
    "\n",
    "final_model = XGBRegressor(\n",
    "    colsample_bytree=0.6,\n",
    "    gamma=0,\n",
    "    learning_rate=0.05,\n",
    "    max_depth=4,\n",
    "    min_child_weight=3,\n",
    "    n_estimators=1000,\n",
    "    reg_alpha=0.01,\n",
    "    reg_lambda=2,\n",
    "    subsample=0.6,\n",
    "    random_state=42\n",
    ")\n",
    "\n",
    "final_model.fit(X_train, y_train)\n",
    "\n",
    "y_pred = final_model.predict(X_valid)\n",
    "\n",
    "score = rmsle(y_valid, y_pred)\n",
    "print(f\"RMSLE: {score:.6f}\")"
   ]
  },
  {
   "cell_type": "code",
   "execution_count": null,
   "id": "1accb552",
   "metadata": {},
   "outputs": [],
   "source": [
    "testData = pd.read_csv('./data/test.csv')\n",
    "testData.drop(['Id'], axis=1, inplace=True)\n",
    "\n",
    "for col in ['PoolQC', 'MiscFeature', 'Alley', 'Fence', 'FireplaceQu',\n",
    "            'GarageType', 'GarageFinish', 'GarageQual', 'GarageCond',\n",
    "            'BsmtExposure', 'BsmtFinType1', 'BsmtFinType2', 'BsmtQual', 'BsmtCond',\n",
    "            'MasVnrType']:\n",
    "    testData[col] = testData[col].fillna(\"None\")\n",
    "for col in ['GarageYrBlt', 'GarageArea', 'GarageCars', 'BsmtFinSF1',\n",
    "            'BsmtFinSF2', 'BsmtUnfSF', 'TotalBsmtSF', 'BsmtFullBath', \n",
    "            'BsmtHalfBath', 'MasVnrArea']:\n",
    "    testData[col] = testData[col].fillna(0)\n",
    "testData[\"LotFrontage\"] = testData.groupby(\"Neighborhood\")[\"LotFrontage\"].transform(\n",
    "    lambda x: x.fillna(x.median()))\n",
    "testData['Electrical'] = testData['Electrical'].fillna(testData['Electrical'].mode()[0])\n",
    "testData['KitchenAbvGr'] = testData['KitchenAbvGr'].fillna(testData['KitchenAbvGr'].mode()[0])\n",
    "\n",
    "cat_cols = testData.select_dtypes(include=[\"object\"]).columns\n",
    "for col in cat_cols:\n",
    "    testData[col] = testData[col].fillna(\"None\")\n",
    "testData = pd.get_dummies(testData, columns=cat_cols)\n",
    "\n",
    "X_test = testData.reindex(columns=X_train.columns, fill_value=0)\n",
    "print(\"Test data shape: \", X_test.shape)\n",
    "print(\"Sucssessfully prepared test data.\")"
   ]
  },
  {
   "cell_type": "code",
   "execution_count": null,
   "id": "4b1ad9a4",
   "metadata": {},
   "outputs": [],
   "source": [
    "final_model.fit(X_train, y_train)\n",
    "\n",
    "test_predictions = final_model.predict(X_test)\n",
    "\n",
    "submission = pd.DataFrame({\n",
    "    'Id': pd.read_csv('./data/test.csv')['Id'],\n",
    "    'SalePrice': np.expm1(test_predictions)\n",
    "})\n",
    "submission.to_csv('./data/submission1.csv', index=False)\n",
    "print(\"Predictions saved to './data/submission.csv'\")\n",
    "print(\"Script completed successfully.\")\n"
   ]
  }
 ],
 "metadata": {
  "kernelspec": {
   "display_name": "Python 3",
   "language": "python",
   "name": "python3"
  },
  "language_info": {
   "codemirror_mode": {
    "name": "ipython",
    "version": 3
   },
   "file_extension": ".py",
   "mimetype": "text/x-python",
   "name": "python",
   "nbconvert_exporter": "python",
   "pygments_lexer": "ipython3",
   "version": "3.11.8"
  }
 },
 "nbformat": 4,
 "nbformat_minor": 5
}
