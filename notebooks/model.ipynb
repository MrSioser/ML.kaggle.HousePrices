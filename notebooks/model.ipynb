{
 "cells": [
  {
   "cell_type": "code",
   "execution_count": null,
   "id": "bacb5b01",
   "metadata": {},
   "outputs": [],
   "source": [
    "import pandas as pd\n",
    "import numpy as np\n",
    "import seaborn as sns\n",
    "import matplotlib.pyplot as plt\n",
    "\n",
    "# Libraries for Feature Engineering and Model Validation\n",
    "from ydata_profiling import ProfileReport\n",
    "from sklearn.model_selection import train_test_split\n",
    "from sklearn.preprocessing import StandardScaler\n",
    "import joblib\n",
    "\n",
    "# Specific ML model and metric\n",
    "from xgboost import XGBRegressor\n",
    "from sklearn.metrics import mean_squared_log_error"
   ]
  },
  {
   "cell_type": "markdown",
   "id": "95b58e50",
   "metadata": {},
   "source": [
    "#### &#10140; *EDA*</br>"
   ]
  },
  {
   "cell_type": "code",
   "execution_count": 2,
   "id": "f3d9ca90",
   "metadata": {},
   "outputs": [
    {
     "name": "stdout",
     "output_type": "stream",
     "text": [
      "Data shape:  (1460, 81)\n"
     ]
    }
   ],
   "source": [
    "trainData = pd.read_csv('../data/train.csv')\n",
    "\n",
    "print('Data shape: ', trainData.shape)"
   ]
  },
  {
   "cell_type": "code",
   "execution_count": 3,
   "id": "c8d108e2",
   "metadata": {},
   "outputs": [],
   "source": [
    "#profile = ProfileReport(trainData, title=\"Profiling Report\")\n",
    "#profile.to_notebook_iframe()"
   ]
  },
  {
   "cell_type": "markdown",
   "id": "bff6aa2a",
   "metadata": {},
   "source": [
    "<div class=\"alert alert-block alert-success\">\n",
    "<b>Explanation:</b> The 'Id' column is a unique identifier that does not contain predictive information. Removing it prevents data leakage and improves model generalization.\n",
    "</div>"
   ]
  },
  {
   "cell_type": "code",
   "execution_count": 4,
   "id": "53885118",
   "metadata": {},
   "outputs": [
    {
     "name": "stdout",
     "output_type": "stream",
     "text": [
      "<class 'pandas.core.frame.DataFrame'>\n",
      "RangeIndex: 1460 entries, 0 to 1459\n",
      "Data columns (total 80 columns):\n",
      " #   Column         Non-Null Count  Dtype  \n",
      "---  ------         --------------  -----  \n",
      " 0   MSSubClass     1460 non-null   int64  \n",
      " 1   MSZoning       1460 non-null   object \n",
      " 2   LotFrontage    1201 non-null   float64\n",
      " 3   LotArea        1460 non-null   int64  \n",
      " 4   Street         1460 non-null   object \n",
      " 5   Alley          91 non-null     object \n",
      " 6   LotShape       1460 non-null   object \n",
      " 7   LandContour    1460 non-null   object \n",
      " 8   Utilities      1460 non-null   object \n",
      " 9   LotConfig      1460 non-null   object \n",
      " 10  LandSlope      1460 non-null   object \n",
      " 11  Neighborhood   1460 non-null   object \n",
      " 12  Condition1     1460 non-null   object \n",
      " 13  Condition2     1460 non-null   object \n",
      " 14  BldgType       1460 non-null   object \n",
      " 15  HouseStyle     1460 non-null   object \n",
      " 16  OverallQual    1460 non-null   int64  \n",
      " 17  OverallCond    1460 non-null   int64  \n",
      " 18  YearBuilt      1460 non-null   int64  \n",
      " 19  YearRemodAdd   1460 non-null   int64  \n",
      " 20  RoofStyle      1460 non-null   object \n",
      " 21  RoofMatl       1460 non-null   object \n",
      " 22  Exterior1st    1460 non-null   object \n",
      " 23  Exterior2nd    1460 non-null   object \n",
      " 24  MasVnrType     588 non-null    object \n",
      " 25  MasVnrArea     1452 non-null   float64\n",
      " 26  ExterQual      1460 non-null   object \n",
      " 27  ExterCond      1460 non-null   object \n",
      " 28  Foundation     1460 non-null   object \n",
      " 29  BsmtQual       1423 non-null   object \n",
      " 30  BsmtCond       1423 non-null   object \n",
      " 31  BsmtExposure   1422 non-null   object \n",
      " 32  BsmtFinType1   1423 non-null   object \n",
      " 33  BsmtFinSF1     1460 non-null   int64  \n",
      " 34  BsmtFinType2   1422 non-null   object \n",
      " 35  BsmtFinSF2     1460 non-null   int64  \n",
      " 36  BsmtUnfSF      1460 non-null   int64  \n",
      " 37  TotalBsmtSF    1460 non-null   int64  \n",
      " 38  Heating        1460 non-null   object \n",
      " 39  HeatingQC      1460 non-null   object \n",
      " 40  CentralAir     1460 non-null   object \n",
      " 41  Electrical     1459 non-null   object \n",
      " 42  1stFlrSF       1460 non-null   int64  \n",
      " 43  2ndFlrSF       1460 non-null   int64  \n",
      " 44  LowQualFinSF   1460 non-null   int64  \n",
      " 45  GrLivArea      1460 non-null   int64  \n",
      " 46  BsmtFullBath   1460 non-null   int64  \n",
      " 47  BsmtHalfBath   1460 non-null   int64  \n",
      " 48  FullBath       1460 non-null   int64  \n",
      " 49  HalfBath       1460 non-null   int64  \n",
      " 50  BedroomAbvGr   1460 non-null   int64  \n",
      " 51  KitchenAbvGr   1460 non-null   int64  \n",
      " 52  KitchenQual    1460 non-null   object \n",
      " 53  TotRmsAbvGrd   1460 non-null   int64  \n",
      " 54  Functional     1460 non-null   object \n",
      " 55  Fireplaces     1460 non-null   int64  \n",
      " 56  FireplaceQu    770 non-null    object \n",
      " 57  GarageType     1379 non-null   object \n",
      " 58  GarageYrBlt    1379 non-null   float64\n",
      " 59  GarageFinish   1379 non-null   object \n",
      " 60  GarageCars     1460 non-null   int64  \n",
      " 61  GarageArea     1460 non-null   int64  \n",
      " 62  GarageQual     1379 non-null   object \n",
      " 63  GarageCond     1379 non-null   object \n",
      " 64  PavedDrive     1460 non-null   object \n",
      " 65  WoodDeckSF     1460 non-null   int64  \n",
      " 66  OpenPorchSF    1460 non-null   int64  \n",
      " 67  EnclosedPorch  1460 non-null   int64  \n",
      " 68  3SsnPorch      1460 non-null   int64  \n",
      " 69  ScreenPorch    1460 non-null   int64  \n",
      " 70  PoolArea       1460 non-null   int64  \n",
      " 71  PoolQC         7 non-null      object \n",
      " 72  Fence          281 non-null    object \n",
      " 73  MiscFeature    54 non-null     object \n",
      " 74  MiscVal        1460 non-null   int64  \n",
      " 75  MoSold         1460 non-null   int64  \n",
      " 76  YrSold         1460 non-null   int64  \n",
      " 77  SaleType       1460 non-null   object \n",
      " 78  SaleCondition  1460 non-null   object \n",
      " 79  SalePrice      1460 non-null   int64  \n",
      "dtypes: float64(3), int64(34), object(43)\n",
      "memory usage: 912.6+ KB\n",
      "None\n"
     ]
    }
   ],
   "source": [
    "trainData.drop(['Id'], axis=1, inplace=True)\n",
    "\n",
    "print(trainData.info())"
   ]
  },
  {
   "cell_type": "markdown",
   "id": "60d43e22",
   "metadata": {},
   "source": [
    "### -- `Log-Transformation` -- "
   ]
  },
  {
   "cell_type": "markdown",
   "id": "fca1ebd4",
   "metadata": {},
   "source": [
    "<div class=\"alert alert-block alert-success\">\n",
    "<b>Explanation:</b> The target variable 'SalePrice' is log-transformed using 'log1p' to correct right-skewness and approximate a normal distribution. This transformation stabilizes variance and enhances performance of regression models.\n",
    "</div>"
   ]
  },
  {
   "cell_type": "code",
   "execution_count": 5,
   "id": "e3598d8e",
   "metadata": {},
   "outputs": [
    {
     "data": {
      "text/plain": [
       "Text(0.5, 0, 'Log(SalePrice)')"
      ]
     },
     "execution_count": 5,
     "metadata": {},
     "output_type": "execute_result"
    },
    {
     "data": {
      "image/png": "[encoded data removed]",
      "text/plain": [
       "<Figure size 1000x600 with 1 Axes>"
      ]
     },
     "metadata": {},
     "output_type": "display_data"
    },
    {
     "data": {
      "image/png": "[encoded data removed]",
      "text/plain": [
       "<Figure size 1000x600 with 1 Axes>"
      ]
     },
     "metadata": {},
     "output_type": "display_data"
    }
   ],
   "source": [
    "plt.figure(figsize=(10, 6))\n",
    "sns.histplot(trainData['SalePrice'], bins=30, kde=True)\n",
    "plt.title('Distribution of SalePrice')\n",
    "plt.xlabel('SalePrice')\n",
    " \n",
    "\n",
    "trainData['SalePrice'] = np.log1p(trainData['SalePrice'])\n",
    "plt.figure(figsize=(10, 6))\n",
    "sns.histplot(trainData['SalePrice'], bins=30, kde=True)\n",
    "plt.title('Log-Transformed Distribution of SalePrice')\n",
    "plt.xlabel('Log(SalePrice)')"
   ]
  },
  {
   "cell_type": "markdown",
   "id": "cf91b809",
   "metadata": {},
   "source": [
    "### -- `Missing Data` -- "
   ]
  },
  {
   "cell_type": "code",
   "execution_count": 6,
   "id": "ab8b5398",
   "metadata": {},
   "outputs": [
    {
     "name": "stdout",
     "output_type": "stream",
     "text": [
      "PoolQC          1453\n",
      "MiscFeature     1406\n",
      "Alley           1369\n",
      "Fence           1179\n",
      "MasVnrType       872\n",
      "FireplaceQu      690\n",
      "LotFrontage      259\n",
      "GarageType        81\n",
      "GarageYrBlt       81\n",
      "GarageFinish      81\n",
      "GarageQual        81\n",
      "GarageCond        81\n",
      "BsmtFinType2      38\n",
      "BsmtExposure      38\n",
      "BsmtFinType1      37\n",
      "BsmtCond          37\n",
      "BsmtQual          37\n",
      "MasVnrArea         8\n",
      "Electrical         1\n",
      "dtype: int64\n"
     ]
    }
   ],
   "source": [
    "missing = trainData.isnull().sum() \n",
    "missing = missing[missing > 0].sort_values(ascending=False)\n",
    "\n",
    "print(missing.head(20))"
   ]
  },
  {
   "cell_type": "markdown",
   "id": "1119cacd",
   "metadata": {},
   "source": [
    "<div class=\"alert alert-block alert-success\">\n",
    "<b>Explanation:</b> Missing data is treated contextually based on feature semantics:\n",
    "\n",
    "- Categorical features such as 'GarageTyp' or 'BsmtCond' → filled with \"None\", representing non-existence.\n",
    "- Numeric structural attributes (areas, counts) → filled with 0.\n",
    "- Neighborhood-dependent features (e.g., 'LotFrontage') → filled by the median value within the same neighborhood.\n",
    "- Single-column gaps (e.g., 'Electrical') → filled with the mode.\n",
    "\n",
    "This tailored imputation preserves real-world meaning and prevents bias in model training.\n",
    "</div>"
   ]
  },
  {
   "cell_type": "code",
   "execution_count": 7,
   "id": "468984d7",
   "metadata": {},
   "outputs": [
    {
     "name": "stdout",
     "output_type": "stream",
     "text": [
      "MSSubClass      0\n",
      "MSZoning        0\n",
      "GarageYrBlt     0\n",
      "GarageType      0\n",
      "FireplaceQu     0\n",
      "Fireplaces      0\n",
      "Functional      0\n",
      "TotRmsAbvGrd    0\n",
      "KitchenQual     0\n",
      "KitchenAbvGr    0\n",
      "dtype: int64\n"
     ]
    }
   ],
   "source": [
    "for col in ['PoolQC', 'MiscFeature', 'Alley', 'Fence', 'FireplaceQu',\n",
    "            'GarageType', 'GarageFinish', 'GarageQual', 'GarageCond',\n",
    "            'BsmtExposure', 'BsmtFinType1', 'BsmtFinType2', 'BsmtQual', 'BsmtCond',\n",
    "            'MasVnrType']:\n",
    "    trainData[col] = trainData[col].fillna(\"None\")\n",
    "\n",
    "for col in ['GarageYrBlt', 'GarageArea', 'GarageCars', 'BsmtFinSF1',\n",
    "            'BsmtFinSF2', 'BsmtUnfSF', 'TotalBsmtSF', 'BsmtFullBath', \n",
    "            'BsmtHalfBath', 'MasVnrArea']:\n",
    "    trainData[col] = trainData[col].fillna(0)\n",
    "\n",
    "trainData[\"LotFrontage\"] = trainData.groupby(\"Neighborhood\")[\"LotFrontage\"].transform(\n",
    "    lambda x: x.fillna(x.median()))\n",
    "\n",
    "trainData['Electrical'] = trainData['Electrical'].fillna(trainData['Electrical'].mode()[0])\n",
    "\n",
    "print(trainData.isnull().sum().sort_values(ascending=False).head(10))"
   ]
  },
  {
   "cell_type": "markdown",
   "id": "72e053fc",
   "metadata": {},
   "source": [
    "### -- `Zero Data` -- "
   ]
  },
  {
   "cell_type": "markdown",
   "id": "092e3027",
   "metadata": {},
   "source": [
    "<div class=\"alert alert-block alert-success\">\n",
    "<b>Explanation:</b> I check how many features are dominated by zero values. This highlights sparsity. I also make a quick correction for 'KitchenAbvGr' by filling any potential missing values with the mode, just to ensure that column is perfect.\n",
    "</div>"
   ]
  },
  {
   "cell_type": "code",
   "execution_count": 8,
   "id": "92c69aa4",
   "metadata": {},
   "outputs": [
    {
     "name": "stdout",
     "output_type": "stream",
     "text": [
      "PoolArea         1453\n",
      "3SsnPorch        1436\n",
      "LowQualFinSF     1434\n",
      "MiscVal          1408\n",
      "BsmtHalfBath     1378\n",
      "ScreenPorch      1344\n",
      "BsmtFinSF2       1293\n",
      "EnclosedPorch    1252\n",
      "HalfBath          913\n",
      "MasVnrArea        869\n",
      "BsmtFullBath      856\n",
      "2ndFlrSF          829\n",
      "WoodDeckSF        761\n",
      "Fireplaces        690\n",
      "OpenPorchSF       656\n",
      "BsmtFinSF1        467\n",
      "BsmtUnfSF         118\n",
      "GarageYrBlt        81\n",
      "GarageCars         81\n",
      "GarageArea         81\n",
      "TotalBsmtSF        37\n",
      "FullBath            9\n",
      "BedroomAbvGr        6\n",
      "KitchenAbvGr        1\n",
      "dtype: int64\n"
     ]
    }
   ],
   "source": [
    "zero_value = trainData.isin([0]).sum()\n",
    "zero_value = zero_value[zero_value > 0].sort_values(ascending=False)\n",
    "print(zero_value.head(30))"
   ]
  },
  {
   "cell_type": "code",
   "execution_count": 9,
   "id": "4d711787",
   "metadata": {},
   "outputs": [],
   "source": [
    "trainData['KitchenAbvGr'] = trainData['KitchenAbvGr'].fillna(trainData['KitchenAbvGr'].mode()[0])"
   ]
  },
  {
   "cell_type": "markdown",
   "id": "d357b1d8",
   "metadata": {},
   "source": [
    "### -- `Categorical objects` -- "
   ]
  },
  {
   "cell_type": "markdown",
   "id": "60fefde3",
   "metadata": {},
   "source": [
    "<div class=\"alert alert-block alert-success\">\n",
    "<b>Explanation:</b> Categorical variables are expanded into binary indicator columns using 'OneHotEncoder'.\n",
    "This representation prevents imposing any artificial ordinal relationship and enables tree-based algorithms like XGBoost to interpret each category independently.\n",
    "</div>"
   ]
  },
  {
   "cell_type": "code",
   "execution_count": 10,
   "id": "658a8c6d",
   "metadata": {},
   "outputs": [
    {
     "name": "stdout",
     "output_type": "stream",
     "text": [
      "Index(['MSZoning', 'Street', 'Alley', 'LotShape', 'LandContour', 'Utilities',\n",
      "       'LotConfig', 'LandSlope', 'Neighborhood', 'Condition1', 'Condition2',\n",
      "       'BldgType', 'HouseStyle', 'RoofStyle', 'RoofMatl', 'Exterior1st',\n",
      "       'Exterior2nd', 'MasVnrType', 'ExterQual', 'ExterCond', 'Foundation',\n",
      "       'BsmtQual', 'BsmtCond', 'BsmtExposure', 'BsmtFinType1', 'BsmtFinType2',\n",
      "       'Heating', 'HeatingQC', 'CentralAir', 'Electrical', 'KitchenQual',\n",
      "       'Functional', 'FireplaceQu', 'GarageType', 'GarageFinish', 'GarageQual',\n",
      "       'GarageCond', 'PavedDrive', 'PoolQC', 'Fence', 'MiscFeature',\n",
      "       'SaleType', 'SaleCondition'],\n",
      "      dtype='object')\n",
      "MSZoning: 5 unique values\n",
      "Street: 2 unique values\n",
      "Alley: 3 unique values\n",
      "LotShape: 4 unique values\n",
      "LandContour: 4 unique values\n",
      "Utilities: 2 unique values\n",
      "LotConfig: 5 unique values\n",
      "LandSlope: 3 unique values\n",
      "Neighborhood: 25 unique values\n",
      "Condition1: 9 unique values\n",
      "Condition2: 8 unique values\n",
      "BldgType: 5 unique values\n",
      "HouseStyle: 8 unique values\n",
      "RoofStyle: 6 unique values\n",
      "RoofMatl: 8 unique values\n",
      "Exterior1st: 15 unique values\n",
      "Exterior2nd: 16 unique values\n",
      "MasVnrType: 4 unique values\n",
      "ExterQual: 4 unique values\n",
      "ExterCond: 5 unique values\n",
      "Foundation: 6 unique values\n",
      "BsmtQual: 5 unique values\n",
      "BsmtCond: 5 unique values\n",
      "BsmtExposure: 5 unique values\n",
      "BsmtFinType1: 7 unique values\n",
      "BsmtFinType2: 7 unique values\n",
      "Heating: 6 unique values\n",
      "HeatingQC: 5 unique values\n",
      "CentralAir: 2 unique values\n",
      "Electrical: 5 unique values\n",
      "KitchenQual: 4 unique values\n",
      "Functional: 7 unique values\n",
      "FireplaceQu: 6 unique values\n",
      "GarageType: 7 unique values\n",
      "GarageFinish: 4 unique values\n",
      "GarageQual: 6 unique values\n",
      "GarageCond: 6 unique values\n",
      "PavedDrive: 3 unique values\n",
      "PoolQC: 4 unique values\n",
      "Fence: 5 unique values\n",
      "MiscFeature: 5 unique values\n",
      "SaleType: 9 unique values\n",
      "SaleCondition: 6 unique values\n"
     ]
    }
   ],
   "source": [
    "cat_cols = trainData.select_dtypes(include=[\"object\"]).columns\n",
    "print(cat_cols)\n",
    "\n",
    "\n",
    "cat_cols = trainData.select_dtypes(include=[\"object\"]).columns\n",
    "\n",
    "for col in cat_cols:\n",
    "    print(f\"{col}: {trainData[col].nunique()} unique values\")\n",
    "\n",
    "trainData = pd.get_dummies(trainData, columns=cat_cols)"
   ]
  },
  {
   "cell_type": "markdown",
   "id": "19bb79f1",
   "metadata": {},
   "source": [
    "### -- `Outliers` -- "
   ]
  },
  {
   "cell_type": "markdown",
   "id": "3dc2e51e",
   "metadata": {},
   "source": [
    "<div class=\"alert alert-block alert-success\">\n",
    "<b>Explanation:</b> Extreme outliers in area features like 'LotArea' can skew my results. I visualize the data to confirm the worst offenders. I decided to remove houses with excessively large 'GrLivArea' (over 4000 sq ft) and 'LotArea' (over 7500 sq ft). Removing these anomalies improves the model's overall stability and generalization.\n",
    "</div>"
   ]
  },
  {
   "cell_type": "code",
   "execution_count": 11,
   "id": "2593f1d2",
   "metadata": {},
   "outputs": [
    {
     "data": {
      "image/png": "[encoded data removed]",
      "text/plain": [
       "<Figure size 640x480 with 1 Axes>"
      ]
     },
     "metadata": {},
     "output_type": "display_data"
    }
   ],
   "source": [
    "sns.scatterplot(x=trainData['SalePrice'], y=trainData['SalePrice'])\n",
    "plt.title(\"LotArea vs SalePrice\")\n",
    "\n",
    "trainData = trainData[trainData['GrLivArea'] < 4000]\n",
    "trainData = trainData[trainData['LotArea'] < 7500]\n",
    "trainData = trainData[trainData['GarageYrBlt'] > 1910]"
   ]
  },
  {
   "cell_type": "markdown",
   "id": "80b2734a",
   "metadata": {},
   "source": [
    "### -- `Feature Engineering` -- "
   ]
  },
  {
   "cell_type": "markdown",
   "id": "367a190b",
   "metadata": {},
   "source": [
    "<div class=\"alert alert-block alert-success\">\n",
    "<b>Explanation:</b> Two derived features are added to enrich model performance:\n",
    "\n",
    "- TotalSF: Sum of 1stFlrSF, 2ndFlrSF, and TotalBsmtSF — providing a holistic measure of total livable area.\n",
    "- Age: Calculated as YrSold - YearBuilt, representing the property’s effective age, a critical pricing factor.\n",
    "\n",
    "Feature engineering integrates domain intuition into the learning process, improving both interpretability and predictive accuracy.\n",
    "</div>"
   ]
  },
  {
   "cell_type": "code",
   "execution_count": 12,
   "id": "83153e2c",
   "metadata": {},
   "outputs": [],
   "source": [
    "trainData['TotalSF'] = trainData['1stFlrSF'] + trainData['2ndFlrSF'] + trainData['TotalBsmtSF']\n",
    "trainData['Age'] = trainData['YrSold'] - trainData['YearBuilt']"
   ]
  },
  {
   "cell_type": "markdown",
   "id": "693d32f8",
   "metadata": {},
   "source": [
    "#### &#10140; *Preparing Data*</br>"
   ]
  },
  {
   "cell_type": "markdown",
   "id": "17630a5d",
   "metadata": {},
   "source": [
    "<div class=\"alert alert-block alert-success\">\n",
    "<b>Explanation:</b> After data cleaning, imputation, and feature engineering, the dataset is exported to CSV format.\n",
    "This allows reproducibility, efficient reloading, and ensures identical preprocessing during model training and inference.\n",
    "</div>"
   ]
  },
  {
   "cell_type": "code",
   "execution_count": 13,
   "id": "8a19e5b4",
   "metadata": {},
   "outputs": [],
   "source": [
    "trainData.to_csv(\"../processed_data/processed_train_data.csv\", index=False)"
   ]
  },
  {
   "cell_type": "code",
   "execution_count": 15,
   "id": "b534d2ac",
   "metadata": {},
   "outputs": [],
   "source": [
    "y = trainData['SalePrice']\n",
    "X = trainData.drop('SalePrice', axis=1)\n",
    "\n",
    "X_train, X_valid, y_train, y_valid = train_test_split(X, y, test_size=0.2, random_state=42)"
   ]
  },
  {
   "cell_type": "markdown",
   "id": "eda9d6b7",
   "metadata": {},
   "source": [
    "<div class=\"alert alert-block alert-success\">\n",
    "<b>Explanation:</b> Numerical features are standardized with 'StandardScaler' to achieve consistent scales across columns.\n",
    "Although scaling is not essential for tree-based models, it enhances interpretability and benefits potential linear baselines or hybrid approaches.\n",
    "</div>"
   ]
  },
  {
   "cell_type": "code",
   "execution_count": 16,
   "id": "28425248",
   "metadata": {},
   "outputs": [],
   "source": [
    "scaler = StandardScaler()\n",
    "X_train_scaled = pd.DataFrame(scaler.fit_transform(X_train), \n",
    "                              columns=X_train.columns, index=X_train.index)\n",
    "X_valid_scaled = pd.DataFrame(scaler.transform(X_valid), \n",
    "                             columns=X_valid.columns, index=X_valid.index)  "
   ]
  },
  {
   "cell_type": "markdown",
   "id": "c0bc6ec0",
   "metadata": {},
   "source": [
    "<div class=\"alert alert-success\">\n",
    "<b>Explanation — Model:</b><br/>\n",
    "We use <b>XGBRegressor</b> because gradient-boosted trees are state-of-the-art for tabular data with mixed numeric/categorical features. The model naturally captures non-linearities and high-order interactions, is robust to monotonic feature scaling, and offers strong regularization (depth, subsample, column sampling).\n",
    "<br/><br/>\n",
    "<b>Why these hyperparameters:</b>\n",
    "<ul>\n",
    "  <li><b>n_estimators=1500</b>: a sufficiently large ensemble to fit complex patterns; combined with shrinkage to avoid overfitting.</li>\n",
    "  <li><b>learning_rate=0.05</b>: smaller steps improve generalization; more trees then act as a smoother function approximator.</li>\n",
    "  <li><b>max_depth=4</b>: shallow trees reduce variance and keep interactions interpretable.</li>\n",
    "  <li><b>subsample=0.6</b>: stochasticity per tree (row sampling) lowers variance and helps against overfitting.</li>\n",
    "  <li><b>random_state=42</b>: reproducible training.</li>\n",
    "</ul>\n",
    "</div>\n"
   ]
  },
  {
   "cell_type": "markdown",
   "id": "4d1cf2a5",
   "metadata": {},
   "source": [
    "<div class=\"alert alert-success\">\n",
    "<b>Explanation — Metric:</b><br/>\n",
    "We evaluate with <b>RMSLE</b> (Root Mean Squared Logarithmic Error):\n",
    "<div style=\"font-family: monospace\">RMSLE = sqrt( mean( (log(y_true+1) − log(y_pred+1))^2 ) )</div>\n",
    "It measures <b>multiplicative</b> error (relative miss), down-weights huge absolute mistakes on expensive houses, and matches the log-transform of the target we use in training/inference.\n",
    "<br/><br/>\n",
    "<b>Interpreting a score:</b> For small errors, RMSLE ≈ the typical <i>log-error</i>. Converting back:\n",
    "<div style=\"font-family: monospace\">typical multiplicative error ≈ exp(RMSLE) − 1</div>\n",
    "So for <b>RMSLE = 0.105</b> → <b>exp(0.105) − 1 ≈ 0.110</b>. In other words, the model’s predictions deviate by approximately 11% from the true sale prices on average (in a multiplicative sense).\n",
    "</div>\n"
   ]
  },
  {
   "cell_type": "code",
   "execution_count": 17,
   "id": "46eb78b4",
   "metadata": {},
   "outputs": [
    {
     "name": "stdout",
     "output_type": "stream",
     "text": [
      "RMSLE: 0.105029\n"
     ]
    }
   ],
   "source": [
    "def rmsle(y_true_log, y_pred_log):\n",
    "    y_true = np.expm1(y_true_log)  \n",
    "    y_pred = np.expm1(y_pred_log)\n",
    "    return np.sqrt(mean_squared_log_error(y_true, y_pred))\n",
    "\n",
    "final_model = XGBRegressor(\n",
    "    learning_rate=0.05,\n",
    "    max_depth=4,\n",
    "    n_estimators=1500,\n",
    "    subsample=0.6,\n",
    "    random_state=42\n",
    ")\n",
    "\n",
    "final_model.fit(X_train_scaled, y_train)\n",
    "\n",
    "y_pred = final_model.predict(X_valid_scaled)\n",
    "\n",
    "score = rmsle(y_valid, y_pred)\n",
    "print(f\"RMSLE: {score:.6f}\")"
   ]
  },
  {
   "cell_type": "markdown",
   "id": "eea70c23",
   "metadata": {},
   "source": [
    "<div class=\"alert alert-success\">\n",
    "<b>Explanation:</b>  \n",
    "The test dataset must undergo <b>exactly the same preprocessing pipeline</b> as the training data to ensure consistent feature representation.  \n",
    "All imputation logic (for missing values), categorical encoding, and feature engineering steps are reapplied in identical order.  \n",
    "<br/><br/>\n",
    "The most critical step here is <b>feature alignment</b> — reindexing <code>X_test</code> to match <code>X_train</code>’s columns.  \n",
    "This guarantees that both datasets share the same structure, preventing mismatched columns or unseen categories from breaking the model at inference time.  \n",
    "Any features absent in the test set are automatically added and filled with zeros, ensuring numerical stability during scaling and prediction.  \n",
    "<br/><br/>\n",
    "Finally, the processed test data is standardized using the same <code>StandardScaler</code> fitted on the training data, then exported to <code>processed_test_data.csv</code> for reproducibility and submission.\n",
    "</div>\n"
   ]
  },
  {
   "cell_type": "code",
   "execution_count": 18,
   "id": "1accb552",
   "metadata": {},
   "outputs": [
    {
     "name": "stdout",
     "output_type": "stream",
     "text": [
      "Test data shape:  (1459, 304)\n",
      "Sucssessfully prepared test data.\n"
     ]
    }
   ],
   "source": [
    "testData = pd.read_csv('../data/test.csv')\n",
    "testData.drop(['Id'], axis=1, inplace=True)\n",
    "\n",
    "for col in ['PoolQC', 'MiscFeature', 'Alley', 'Fence', 'FireplaceQu',\n",
    "            'GarageType', 'GarageFinish', 'GarageQual', 'GarageCond',\n",
    "            'BsmtExposure', 'BsmtFinType1', 'BsmtFinType2', 'BsmtQual', 'BsmtCond',\n",
    "            'MasVnrType']:\n",
    "    testData[col] = testData[col].fillna(\"None\")\n",
    "for col in ['GarageYrBlt', 'GarageArea', 'GarageCars', 'BsmtFinSF1',\n",
    "            'BsmtFinSF2', 'BsmtUnfSF', 'TotalBsmtSF', 'BsmtFullBath', \n",
    "            'BsmtHalfBath', 'MasVnrArea']:\n",
    "    testData[col] = testData[col].fillna(0)\n",
    "testData[\"LotFrontage\"] = testData.groupby(\"Neighborhood\")[\"LotFrontage\"].transform(\n",
    "    lambda x: x.fillna(x.median()))\n",
    "testData['Electrical'] = testData['Electrical'].fillna(testData['Electrical'].mode()[0])\n",
    "testData['KitchenAbvGr'] = testData['KitchenAbvGr'].fillna(testData['KitchenAbvGr'].mode()[0])\n",
    "\n",
    "cat_cols = testData.select_dtypes(include=[\"object\"]).columns\n",
    "for col in cat_cols:\n",
    "    testData[col] = testData[col].fillna(\"None\")\n",
    "testData = pd.get_dummies(testData, columns=cat_cols)\n",
    "\n",
    "testData['TotalSF'] = testData['1stFlrSF'] + testData['2ndFlrSF'] + testData['TotalBsmtSF']\n",
    "testData['Age'] = testData['YrSold'] - testData['YearBuilt']\n",
    "X_test = testData.reindex(columns=X_train.columns, fill_value=0)\n",
    "\n",
    "X_test_scaled = pd.DataFrame(scaler.transform(X_test),\n",
    "                             columns=X_test.columns, index=X_test.index)\n",
    "\n",
    "\n",
    "print(\"Test data shape: \", X_test.shape)\n",
    "testData.to_csv(\"../processed_data/processed_test_data.csv\", index=False)\n",
    "print(\"Sucssessfully prepared test data.\")"
   ]
  },
  {
   "cell_type": "markdown",
   "id": "6acb1cd7",
   "metadata": {},
   "source": [
    "<div class=\"alert alert-block alert-success\">\n",
    "<b>Explanation:</b> I perform the final fit and generate predictions on the prepared test data. The key step is the inverse transformation of predictions using numpy.expm1() to return the values to the original price scale. Finally, I combine the original 'Id' column with the final 'SalePrice' predictions and save the result to submission.csv for the challenge.\n",
    "</div>"
   ]
  },
  {
   "cell_type": "code",
   "execution_count": 19,
   "id": "4b1ad9a4",
   "metadata": {},
   "outputs": [
    {
     "name": "stdout",
     "output_type": "stream",
     "text": [
      "Script completed successfully.\n"
     ]
    }
   ],
   "source": [
    "final_model.fit(X_train_scaled, y_train)\n",
    "\n",
    "test_predictions = final_model.predict(X_test_scaled)\n",
    "\n",
    "submission = pd.DataFrame({\n",
    "    'Id': pd.read_csv('../data/test.csv')['Id'],\n",
    "    'SalePrice': np.expm1(test_predictions)\n",
    "})\n",
    "submission.to_csv('../submissions/submission.csv', index=False, float_format='%.10f')\n",
    "print(\"Script completed successfully.\")"
   ]
  },
  {
   "cell_type": "code",
   "execution_count": 25,
   "id": "ca63a799",
   "metadata": {},
   "outputs": [
    {
     "data": {
      "text/plain": [
       "['../models/trained_model.pkl']"
      ]
     },
     "execution_count": 25,
     "metadata": {},
     "output_type": "execute_result"
    }
   ],
   "source": [
    "fmodel_filename = \"../models/trained_model.pkl\"\n",
    "joblib.dump(final_model, fmodel_filename)"
   ]
  }
 ],
 "metadata": {
  "kernelspec": {
   "display_name": "Python 3",
   "language": "python",
   "name": "python3"
  },
  "language_info": {
   "codemirror_mode": {
    "name": "ipython",
    "version": 3
   },
   "file_extension": ".py",
   "mimetype": "text/x-python",
   "name": "python",
   "nbconvert_exporter": "python",
   "pygments_lexer": "ipython3",
   "version": "3.11.8"
  }
 },
 "nbformat": 4,
 "nbformat_minor": 5
}
